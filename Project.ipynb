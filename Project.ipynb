{
 "cells": [
  {
   "cell_type": "code",
   "execution_count": 3,
   "metadata": {},
   "outputs": [
    {
     "name": "stdout",
     "output_type": "stream",
     "text": [
      "Collecting psycopg2\n",
      "  Using cached psycopg2-2.9.9-cp312-cp312-macosx_14_0_arm64.whl\n",
      "Installing collected packages: psycopg2\n",
      "Successfully installed psycopg2-2.9.9\n",
      "Note: you may need to restart the kernel to use updated packages.\n"
     ]
    }
   ],
   "source": [
    "pip install psycopg2"
   ]
  },
  {
   "cell_type": "markdown",
   "metadata": {},
   "source": [
    "# Indigo Flight Data in Database"
   ]
  },
  {
   "cell_type": "code",
   "execution_count": 6,
   "metadata": {},
   "outputs": [
    {
     "name": "stdout",
     "output_type": "stream",
     "text": [
      "Data inserted successfully.\n"
     ]
    }
   ],
   "source": [
    "import http.client\n",
    "import json\n",
    "import psycopg2\n",
    "from datetime import datetime\n",
    "\n",
    "# Step 1: Fetch Data from the API\n",
    "conn = http.client.HTTPSConnection(\"tripadvisor16.p.rapidapi.com\")\n",
    "\n",
    "headers = {\n",
    "    'x-rapidapi-key': \"939577bcd4msh51c844c189119f7p129984jsnf3e058bd1f56\",  # Replace with your actual API key\n",
    "    'x-rapidapi-host': \"tripadvisor16.p.rapidapi.com\"\n",
    "}\n",
    "\n",
    "# Make API request\n",
    "conn.request(\"GET\", \"/api/v1/flights/searchFlights?sourceAirportCode=BOM&destinationAirportCode=DEL&date=2024-10-17&itineraryType=ONE_WAY&sortOrder=ML_BEST_VALUE&numAdults=1&numSeniors=0&classOfService=ECONOMY&pageNumber=1&nearby=yes&nonstop=yes&currencyCode=INR&airlines=6E\", headers=headers)\n",
    "\n",
    "res = conn.getresponse()\n",
    "data = res.read()\n",
    "decoded_data = data.decode(\"utf-8\")\n",
    "\n",
    "# Parse JSON response\n",
    "response = json.loads(decoded_data)\n",
    "\n",
    "# Step 2: Connect to PostgreSQL\n",
    "conn = psycopg2.connect(\"dbname=TransitGuide user=postgres password=0000\")\n",
    "cur = conn.cursor()\n",
    "\n",
    "# SQL Insert Query\n",
    "insert_query = \"\"\"\n",
    "    INSERT INTO IndigoFlightsTable (source, destination, flight_number, departure_date, departure_time, arrival_time, fare, class)\n",
    "    VALUES (%s, %s, %s, %s, %s, %s, %s, %s);\n",
    "\"\"\"\n",
    "\n",
    "# Step 3: Parse and Insert Data\n",
    "flights = response.get('data', {}).get('flights', [])\n",
    "\n",
    "for flight in flights:\n",
    "    for segment in flight['segments']:\n",
    "        for leg in segment['legs']:\n",
    "            source = leg['originStationCode']\n",
    "            destination = leg['destinationStationCode']\n",
    "            flight_number = leg['flightNumber']\n",
    "            \n",
    "            # Convert departure and arrival to separate date and time\n",
    "            departure_datetime = datetime.fromisoformat(leg['departureDateTime'])\n",
    "            arrival_datetime = datetime.fromisoformat(leg['arrivalDateTime'])\n",
    "            departure_date = departure_datetime.date()\n",
    "            departure_time = departure_datetime.time()\n",
    "            arrival_time = arrival_datetime.time()\n",
    "            \n",
    "            # Get fare\n",
    "            fare = flight['purchaseLinks'][0]['totalPricePerPassenger']  # Get fare from the first purchase link\n",
    "            class_of_service = leg['classOfService']\n",
    "            \n",
    "            # Insert into database\n",
    "            cur.execute(insert_query, (\n",
    "                source, destination, flight_number, \n",
    "                departure_date, departure_time, \n",
    "                arrival_time, fare, class_of_service\n",
    "            ))\n",
    "\n",
    "# Commit the transaction\n",
    "conn.commit()\n",
    "\n",
    "# Close connection\n",
    "cur.close()\n",
    "conn.close()\n",
    "\n",
    "print(\"Data inserted successfully.\")"
   ]
  },
  {
   "cell_type": "code",
   "execution_count": 7,
   "metadata": {},
   "outputs": [
    {
     "name": "stdout",
     "output_type": "stream",
     "text": [
      "Collecting pandas\n",
      "  Downloading pandas-2.2.3-cp312-cp312-macosx_11_0_arm64.whl.metadata (89 kB)\n",
      "Collecting numpy>=1.26.0 (from pandas)\n",
      "  Downloading numpy-2.1.1-cp312-cp312-macosx_14_0_arm64.whl.metadata (60 kB)\n",
      "Requirement already satisfied: python-dateutil>=2.8.2 in ./myenv/lib/python3.12/site-packages (from pandas) (2.9.0.post0)\n",
      "Collecting pytz>=2020.1 (from pandas)\n",
      "  Downloading pytz-2024.2-py2.py3-none-any.whl.metadata (22 kB)\n",
      "Collecting tzdata>=2022.7 (from pandas)\n",
      "  Downloading tzdata-2024.2-py2.py3-none-any.whl.metadata (1.4 kB)\n",
      "Requirement already satisfied: six>=1.5 in ./myenv/lib/python3.12/site-packages (from python-dateutil>=2.8.2->pandas) (1.16.0)\n",
      "Downloading pandas-2.2.3-cp312-cp312-macosx_11_0_arm64.whl (11.4 MB)\n",
      "\u001b[2K   \u001b[90m━━━━━━━━━━━━━━━━━━━━━━━━━━━━━━━━━━━━━━━━\u001b[0m \u001b[32m11.4/11.4 MB\u001b[0m \u001b[31m21.8 MB/s\u001b[0m eta \u001b[36m0:00:00\u001b[0m \u001b[36m0:00:01\u001b[0m\n",
      "\u001b[?25hDownloading numpy-2.1.1-cp312-cp312-macosx_14_0_arm64.whl (5.1 MB)\n",
      "\u001b[2K   \u001b[90m━━━━━━━━━━━━━━━━━━━━━━━━━━━━━━━━━━━━━━━━\u001b[0m \u001b[32m5.1/5.1 MB\u001b[0m \u001b[31m17.8 MB/s\u001b[0m eta \u001b[36m0:00:00\u001b[0ma \u001b[36m0:00:01\u001b[0m\n",
      "\u001b[?25hDownloading pytz-2024.2-py2.py3-none-any.whl (508 kB)\n",
      "Downloading tzdata-2024.2-py2.py3-none-any.whl (346 kB)\n",
      "Installing collected packages: pytz, tzdata, numpy, pandas\n",
      "Successfully installed numpy-2.1.1 pandas-2.2.3 pytz-2024.2 tzdata-2024.2\n",
      "Note: you may need to restart the kernel to use updated packages.\n"
     ]
    }
   ],
   "source": [
    "pip install pandas"
   ]
  },
  {
   "cell_type": "code",
   "execution_count": 8,
   "metadata": {},
   "outputs": [
    {
     "name": "stdout",
     "output_type": "stream",
     "text": [
      "Data inserted successfully.\n"
     ]
    }
   ],
   "source": [
    "import psycopg2\n",
    "import pandas as pd\n",
    "\n",
    "# Load the CSV file into a pandas DataFrame\n",
    "csv_file_path = '/Users/mbhanu/Downloads/airport_data.csv'\n",
    "df = pd.read_csv(csv_file_path)\n",
    "\n",
    "# Connect to PostgreSQL\n",
    "conn = psycopg2.connect(\"dbname=TransitGuide user=postgres password=0000\")\n",
    "cur = conn.cursor()\n",
    "\n",
    "\n",
    "# Insert the data into the AirportData table\n",
    "for index, row in df.iterrows():\n",
    "    insert_query = \"\"\"\n",
    "    INSERT INTO AirportData (type, name, latitude_deg, longitude_deg, city, airport_code)\n",
    "    VALUES (%s, %s, %s, %s, %s, %s);\n",
    "    \"\"\"\n",
    "    cur.execute(insert_query, (row['type'], row['name'], row['latitude_deg'], row['longitude_deg'], row['city'], row['airport_code']))\n",
    "\n",
    "# Commit the transaction\n",
    "conn.commit()\n",
    "\n",
    "# Close connection\n",
    "cur.close()\n",
    "conn.close()\n",
    "\n",
    "print(\"Data inserted successfully.\")"
   ]
  },
  {
   "cell_type": "code",
   "execution_count": 9,
   "metadata": {},
   "outputs": [
    {
     "name": "stdout",
     "output_type": "stream",
     "text": [
      "Collecting flask\n",
      "  Downloading flask-3.0.3-py3-none-any.whl.metadata (3.2 kB)\n",
      "Collecting Werkzeug>=3.0.0 (from flask)\n",
      "  Downloading werkzeug-3.0.4-py3-none-any.whl.metadata (3.7 kB)\n",
      "Collecting Jinja2>=3.1.2 (from flask)\n",
      "  Downloading jinja2-3.1.4-py3-none-any.whl.metadata (2.6 kB)\n",
      "Collecting itsdangerous>=2.1.2 (from flask)\n",
      "  Downloading itsdangerous-2.2.0-py3-none-any.whl.metadata (1.9 kB)\n",
      "Collecting click>=8.1.3 (from flask)\n",
      "  Using cached click-8.1.7-py3-none-any.whl.metadata (3.0 kB)\n",
      "Collecting blinker>=1.6.2 (from flask)\n",
      "  Downloading blinker-1.8.2-py3-none-any.whl.metadata (1.6 kB)\n",
      "Collecting MarkupSafe>=2.0 (from Jinja2>=3.1.2->flask)\n",
      "  Downloading MarkupSafe-2.1.5-cp312-cp312-macosx_10_9_universal2.whl.metadata (3.0 kB)\n",
      "Downloading flask-3.0.3-py3-none-any.whl (101 kB)\n",
      "Downloading blinker-1.8.2-py3-none-any.whl (9.5 kB)\n",
      "Using cached click-8.1.7-py3-none-any.whl (97 kB)\n",
      "Downloading itsdangerous-2.2.0-py3-none-any.whl (16 kB)\n",
      "Downloading jinja2-3.1.4-py3-none-any.whl (133 kB)\n",
      "Downloading werkzeug-3.0.4-py3-none-any.whl (227 kB)\n",
      "Downloading MarkupSafe-2.1.5-cp312-cp312-macosx_10_9_universal2.whl (18 kB)\n",
      "Installing collected packages: MarkupSafe, itsdangerous, click, blinker, Werkzeug, Jinja2, flask\n",
      "Successfully installed Jinja2-3.1.4 MarkupSafe-2.1.5 Werkzeug-3.0.4 blinker-1.8.2 click-8.1.7 flask-3.0.3 itsdangerous-2.2.0\n",
      "Note: you may need to restart the kernel to use updated packages.\n"
     ]
    }
   ],
   "source": [
    "pip install flask"
   ]
  },
  {
   "cell_type": "code",
   "execution_count": 1,
   "metadata": {},
   "outputs": [
    {
     "name": "stdout",
     "output_type": "stream",
     "text": [
      "Collecting rapidfuzz\n",
      "  Downloading rapidfuzz-3.10.1-cp312-cp312-macosx_11_0_arm64.whl.metadata (11 kB)\n",
      "Downloading rapidfuzz-3.10.1-cp312-cp312-macosx_11_0_arm64.whl (1.4 MB)\n",
      "\u001b[2K   \u001b[90m━━━━━━━━━━━━━━━━━━━━━━━━━━━━━━━━━━━━━━━━\u001b[0m \u001b[32m1.4/1.4 MB\u001b[0m \u001b[31m11.8 MB/s\u001b[0m eta \u001b[36m0:00:00\u001b[0m\n",
      "\u001b[?25hInstalling collected packages: rapidfuzz\n",
      "Successfully installed rapidfuzz-3.10.1\n",
      "\n",
      "\u001b[1m[\u001b[0m\u001b[34;49mnotice\u001b[0m\u001b[1;39;49m]\u001b[0m\u001b[39;49m A new release of pip is available: \u001b[0m\u001b[31;49m24.2\u001b[0m\u001b[39;49m -> \u001b[0m\u001b[32;49m24.3.1\u001b[0m\n",
      "\u001b[1m[\u001b[0m\u001b[34;49mnotice\u001b[0m\u001b[1;39;49m]\u001b[0m\u001b[39;49m To update, run: \u001b[0m\u001b[32;49mpip install --upgrade pip\u001b[0m\n",
      "Note: you may need to restart the kernel to use updated packages.\n"
     ]
    }
   ],
   "source": [
    "pip install rapidfuzz"
   ]
  },
  {
   "cell_type": "code",
   "execution_count": 2,
   "metadata": {},
   "outputs": [
    {
     "name": "stdout",
     "output_type": "stream",
     "text": [
      "Input: Dilli, Closest Match: Diu, Score: 50.0\n",
      "Could not find a valid match for 'Dilli'. Please try again.\n",
      "Input: Bombay, Closest Match: Coimbatore, Score: 50.0\n",
      "Could not find a valid match for 'Bombay'. Please try again.\n",
      "Input: Delli, Closest Match: New Delhi, Score: 57.14285714285714\n",
      "Could not find a valid match for 'Delli'. Please try again.\n",
      "Input: vishakaptnam, Closest Match: Vishakhapatnam, Score: 92.3076923076923\n",
      "The airport code for the closest match to 'vishakaptnam' is: VTZ\n",
      "Input: visakapatnam, Closest Match: Vishakhapatnam, Score: 92.3076923076923\n",
      "The airport code for the closest match to 'visakapatnam' is: VTZ\n",
      "Input: ViSakaPatnam, Closest Match: Vishakhapatnam, Score: 92.3076923076923\n",
      "The airport code for the closest match to 'ViSakaPatnam' is: VTZ\n",
      "Input: MUmbaI, Closest Match: Mumbai, Score: 100.0\n",
      "The airport code for the closest match to 'MUmbaI' is: BOM\n",
      "Input: biombay, Closest Match: Coimbatore, Score: 47.05882352941176\n",
      "Could not find a valid match for 'biombay'. Please try again.\n",
      "Input: bombai, Closest Match: Mumbai, Score: 66.66666666666667\n",
      "Could not find a valid match for 'bombai'. Please try again.\n",
      "Input: bumbai, Closest Match: Mumbai, Score: 83.33333333333334\n",
      "The airport code for the closest match to 'bumbai' is: BOM\n",
      "Exiting the program. Goodbye!\n"
     ]
    }
   ],
   "source": [
    "import pandas as pd\n",
    "from rapidfuzz import process, fuzz\n",
    "\n",
    "# Load the CSV data into a DataFrame and preprocess city names\n",
    "airport_df = pd.read_csv('assets/airport_data.csv', usecols=['city', 'airport_code'])\n",
    "\n",
    "# Preprocess city names to be case-insensitive and formatted as Title Case\n",
    "airport_df['city'] = airport_df['city'].str.strip().str.title()\n",
    "\n",
    "\n",
    "def get_closest_city(user_city):\n",
    "    \"\"\"\n",
    "    Find the closest matching city to the user's input using fuzzy matching.\n",
    "    \"\"\"\n",
    "    try:\n",
    "        # List of available city names\n",
    "        city_list = airport_df['city'].tolist()\n",
    "\n",
    "        # Perform fuzzy matching\n",
    "        closest_match, score, _ = process.extractOne(\n",
    "            user_city.strip().title(), city_list, scorer=fuzz.ratio\n",
    "        )\n",
    "\n",
    "        # Debugging: Print matching details\n",
    "        print(f\"Input: {user_city}, Closest Match: {closest_match}, Score: {score}\")\n",
    "\n",
    "        # Threshold to ensure it's a valid match\n",
    "        if score >= 70:  # 70 is a lenient similarity threshold\n",
    "            return closest_match\n",
    "        else:\n",
    "            return None\n",
    "    except Exception as e:\n",
    "        print(f\"Error finding closest city: {e}\")\n",
    "        return None\n",
    "\n",
    "\n",
    "def get_airport_code(user_city):\n",
    "    \"\"\"\n",
    "    Get the airport code for the given city.\n",
    "    \"\"\"\n",
    "    try:\n",
    "        # Find the closest matching city\n",
    "        closest_city = get_closest_city(user_city)\n",
    "\n",
    "        if closest_city:\n",
    "            # Filter the DataFrame to find the airport code for the closest city\n",
    "            result = airport_df[airport_df['city'] == closest_city]['airport_code']\n",
    "            return result.iloc[0] if not result.empty else None\n",
    "        else:\n",
    "            return None\n",
    "    except Exception as e:\n",
    "        print(f\"Error fetching airport code for {user_city}: {e}\")\n",
    "        return None\n",
    "\n",
    "\n",
    "# Main script to accept user input\n",
    "if __name__ == \"__main__\":\n",
    "    while True:\n",
    "        user_city = input(\"Enter the name of a city (or type 'exit' to quit): \").strip()\n",
    "        if user_city.lower() == 'exit':\n",
    "            print(\"Exiting the program. Goodbye!\")\n",
    "            break\n",
    "\n",
    "        airport_code = get_airport_code(user_city)\n",
    "        if airport_code:\n",
    "            print(f\"The airport code for the closest match to '{user_city}' is: {airport_code}\")\n",
    "        else:\n",
    "            print(f\"Could not find a valid match for '{user_city}'. Please try again.\")\n",
    "            "
   ]
  },
  {
   "cell_type": "code",
   "execution_count": null,
   "metadata": {},
   "outputs": [
    {
     "name": "stdout",
     "output_type": "stream",
     "text": [
      "Error querying global flights: tuple index out of range\n"
     ]
    },
    {
     "data": {
      "text/plain": [
       "[]"
      ]
     },
     "execution_count": 2,
     "metadata": {},
     "output_type": "execute_result"
    }
   ],
   "source": [
    "from config import get_globalview_db_connection\n",
    "\n",
    "def get_flights(source, destination, journey_date):\n",
    "    try:\n",
    "        conn = get_globalview_db_connection()\n",
    "        cursor = conn.cursor()\n",
    "        query = \"\"\"\n",
    "            SELECT flight_number, source_city, destination_city, departure_date, arrival_time, fare, airline\n",
    "            FROM global_flights\n",
    "            WHERE source_city = %s AND destination_city = %s AND DATE(departure_date) = %s\n",
    "            ORDER BY fare ASC\n",
    "            LIMIT 50;\n",
    "        \"\"\"\n",
    "        cursor.execute(query, (source, destination, journey_date))\n",
    "        results = cursor.fetchall()\n",
    "        conn.close()\n",
    "\n",
    "        flights = []\n",
    "        for row in results:\n",
    "            flights.append({\n",
    "                \"flight_number\": row[0],\n",
    "                \"source_city\": row[1],\n",
    "                \"destination_city\": row[2],\n",
    "                \"departure_date\": row[3],\n",
    "                \"arrival_time\": row[4],\n",
    "                \"fare\": row[5],\n",
    "                \"airline\": row[6],\n",
    "            })\n",
    "        return flights\n",
    "    except Exception as e:\n",
    "        print(f\"Error querying global flights: {e}\")\n",
    "        return []\n",
    "    \n",
    "get_flights('BOM','DEL','2024-11-29')\n"
   ]
  }
 ],
 "metadata": {
  "kernelspec": {
   "display_name": "myenv",
   "language": "python",
   "name": "python3"
  },
  "language_info": {
   "codemirror_mode": {
    "name": "ipython",
    "version": 3
   },
   "file_extension": ".py",
   "mimetype": "text/x-python",
   "name": "python",
   "nbconvert_exporter": "python",
   "pygments_lexer": "ipython3",
   "version": "3.12.6"
  }
 },
 "nbformat": 4,
 "nbformat_minor": 2
}
